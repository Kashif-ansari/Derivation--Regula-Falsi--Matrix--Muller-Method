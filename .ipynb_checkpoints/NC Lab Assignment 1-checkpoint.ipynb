{
 "cells": [
  {
   "cell_type": "code",
   "execution_count": 3,
   "id": "92fde84e",
   "metadata": {},
   "outputs": [
    {
     "name": "stdout",
     "output_type": "stream",
     "text": [
      "True Value =  0.614160568382114\n",
      "Approximatly value =  0.5596401588378338\n",
      "True Error =  0.0545204095442805\n"
     ]
    }
   ],
   "source": [
    "import math as m\n",
    "import sympy as s\n",
    "x = s.Symbol('x')\n",
    "eq = s.sqrt(x-s.cos(x))\n",
    "ans = s.diff(eq,x).evalf(subs={x:2})\n",
    "print(\"True Value = \",ans)\n",
    "a = m.sqrt((2+0.3)-m.cos(2+0.3))\n",
    "b = m.sqrt((2)-m.cos(2))\n",
    "apprx = (a-b)/0.3\n",
    "print(\"Approximatly value = \",apprx)\n",
    "print(\"True Error = \",abs(apprx-ans))"
   ]
  },
  {
   "cell_type": "markdown",
   "id": "6a38fb82",
   "metadata": {},
   "source": [
    "# Regula Falsi"
   ]
  },
  {
   "cell_type": "code",
   "execution_count": 36,
   "id": "538570f9",
   "metadata": {},
   "outputs": [
    {
     "name": "stdout",
     "output_type": "stream",
     "text": [
      "==========================================================================\n",
      "                             Regula Falsi Method\n",
      "==========================================================================\n",
      "Iteration\txL\t\txU\t\txR\t\tTolarance\n",
      "   0 \t\t 1 \t 2 \t 3.6815 \t 18.2155\n",
      "   1 \t\t 1 \t 3.6815 \t 2.7062 \t 6.7017\n",
      "   2 \t\t 2.7062 \t 3.6815 \t 2.9685 \t 0.749\n",
      "   3 \t\t 2.9685 \t 3.6815 \t 2.9967 \t 0.0772\n",
      "   4 \t\t 2.9967 \t 3.6815 \t 2.9996 \t 0.0079\n",
      "   5 \t\t 2.9996 \t 3.6815 \t 2.9999 \t 0.0008\n",
      "   6 \t\t 2.9999 \t 3.6815 \t 2.9999 \t 0.0001\n"
     ]
    }
   ],
   "source": [
    "def f(x):\n",
    "    return m.exp(-2*x)+4*x**2-36\n",
    "def Regulafalsi(xL,xU):\n",
    "    for i in range(15):\n",
    "        xR = ((xU*f(xL))-(xL*f(xU)))/(f(xL)-f(xU))\n",
    "        print(\"  \",i,\"\\t\\t\",round(xL,4),\"\\t\",round(xU,4),\"\\t\",round(xR,4),\"\\t\",abs(round(f(xR),4)))\n",
    "        \n",
    "        if f(xR)<0:\n",
    "            xL = xR\n",
    "        else:\n",
    "            xU = xR\n",
    "        if abs(f(xR))<= 0.0001:\n",
    "            break\n",
    "print(\"==========================================================================\")\n",
    "print(\"                             Regula Falsi Method\")\n",
    "print(\"==========================================================================\")\n",
    "print(\"Iteration\\txL\\t\\txU\\t\\txR\\t\\tTolarance\")\n",
    "Regulafalsi(1,2)"
   ]
  },
  {
   "cell_type": "code",
   "execution_count": null,
   "id": "08e1ed43",
   "metadata": {},
   "outputs": [],
   "source": []
  },
  {
   "cell_type": "markdown",
   "id": "b9ebb7d8",
   "metadata": {},
   "source": [
    "# A(BC)=AB+BC"
   ]
  },
  {
   "cell_type": "code",
   "execution_count": 42,
   "id": "b32fdc25",
   "metadata": {},
   "outputs": [
    {
     "ename": "IndexError",
     "evalue": "index 2 is out of bounds for axis 0 with size 2",
     "output_type": "error",
     "traceback": [
      "\u001b[1;31m---------------------------------------------------------------------------\u001b[0m",
      "\u001b[1;31mIndexError\u001b[0m                                Traceback (most recent call last)",
      "\u001b[1;32m<ipython-input-42-0b41ce581a5e>\u001b[0m in \u001b[0;36m<module>\u001b[1;34m\u001b[0m\n\u001b[0;32m     11\u001b[0m     \u001b[1;32mfor\u001b[0m \u001b[0mj\u001b[0m \u001b[1;32min\u001b[0m \u001b[0mrange\u001b[0m\u001b[1;33m(\u001b[0m\u001b[1;36m2\u001b[0m\u001b[1;33m)\u001b[0m\u001b[1;33m:\u001b[0m\u001b[1;33m\u001b[0m\u001b[1;33m\u001b[0m\u001b[0m\n\u001b[0;32m     12\u001b[0m         \u001b[1;32mfor\u001b[0m \u001b[0mk\u001b[0m \u001b[1;32min\u001b[0m \u001b[0mrange\u001b[0m\u001b[1;33m(\u001b[0m\u001b[1;36m2\u001b[0m\u001b[1;33m)\u001b[0m\u001b[1;33m:\u001b[0m\u001b[1;33m\u001b[0m\u001b[1;33m\u001b[0m\u001b[0m\n\u001b[1;32m---> 13\u001b[1;33m             \u001b[0mresult\u001b[0m\u001b[1;33m[\u001b[0m\u001b[0mi\u001b[0m\u001b[1;33m,\u001b[0m\u001b[0mj\u001b[0m\u001b[1;33m]\u001b[0m \u001b[1;33m+=\u001b[0m\u001b[0mA\u001b[0m\u001b[1;33m[\u001b[0m\u001b[0mi\u001b[0m\u001b[1;33m,\u001b[0m\u001b[0mj\u001b[0m\u001b[1;33m]\u001b[0m\u001b[1;33m*\u001b[0m\u001b[0mresult\u001b[0m\u001b[1;33m[\u001b[0m\u001b[0mk\u001b[0m\u001b[1;33m,\u001b[0m\u001b[0mj\u001b[0m\u001b[1;33m]\u001b[0m\u001b[1;33m\u001b[0m\u001b[1;33m\u001b[0m\u001b[0m\n\u001b[0m\u001b[0;32m     14\u001b[0m \u001b[0mprint\u001b[0m\u001b[1;33m(\u001b[0m\u001b[0mresult\u001b[0m\u001b[1;33m)\u001b[0m\u001b[1;33m\u001b[0m\u001b[1;33m\u001b[0m\u001b[0m\n",
      "\u001b[1;31mIndexError\u001b[0m: index 2 is out of bounds for axis 0 with size 2"
     ]
    }
   ],
   "source": [
    "import numpy as np\n",
    "A= np.array([[1,2,3],[4,5,6]])\n",
    "B= np.array([[2,3],[4,5],[6,7]])\n",
    "C = np.array([[9,3],[1,2]])\n",
    "result = np.array([[0,0],[0,0]])\n",
    "for i in range(2):\n",
    "    for j in range(2):\n",
    "        for k in range(3):\n",
    "            result[i,j] +=C[i,j]*B[k,j]\n",
    "for i in range(2):\n",
    "    for j in range(2):\n",
    "        for k in range(2):\n",
    "            result[i,j] += result[i,j]*A[k,j]\n",
    "print(result)"
   ]
  },
  {
   "cell_type": "code",
   "execution_count": null,
   "id": "a4e43c09",
   "metadata": {},
   "outputs": [],
   "source": []
  }
 ],
 "metadata": {
  "kernelspec": {
   "display_name": "Python 3",
   "language": "python",
   "name": "python3"
  },
  "language_info": {
   "codemirror_mode": {
    "name": "ipython",
    "version": 3
   },
   "file_extension": ".py",
   "mimetype": "text/x-python",
   "name": "python",
   "nbconvert_exporter": "python",
   "pygments_lexer": "ipython3",
   "version": "3.8.8"
  }
 },
 "nbformat": 4,
 "nbformat_minor": 5
}
